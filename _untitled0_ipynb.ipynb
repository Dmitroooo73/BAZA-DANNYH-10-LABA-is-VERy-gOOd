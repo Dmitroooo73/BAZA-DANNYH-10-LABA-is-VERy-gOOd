{
  "nbformat": 4,
  "nbformat_minor": 0,
  "metadata": {
    "colab": {
      "provenance": []
    },
    "kernelspec": {
      "name": "python3",
      "display_name": "Python 3"
    },
    "language_info": {
      "name": "python"
    }
  },
  "cells": [
    {
      "cell_type": "code",
      "execution_count": null,
      "metadata": {
        "colab": {
          "base_uri": "https://localhost:8080/"
        },
        "id": "6QmlBS-ANz-W",
        "outputId": "f87cab48-a586-4a7d-b77a-7a0ea1a0316e"
      },
      "outputs": [
        {
          "output_type": "stream",
          "name": "stdout",
          "text": [
            "Drive already mounted at /content/drive; to attempt to forcibly remount, call drive.mount(\"/content/drive\", force_remount=True).\n",
            "Данные после импорта:\n",
            "   ContractID ContractDate  InsuranceAmount  Rate  AgentID  ClientID  \\\n",
            "0          77   2024-01-15         150000.0  2.75        1         1   \n",
            "1          78   2024-02-20         200000.0  3.00        2         2   \n",
            "2          79   2024-03-05         250000.0  2.50        3         3   \n",
            "3          80   2024-04-10         300000.0  2.25        3         4   \n",
            "4          84   2024-10-18         150000.0  5.50        1         1   \n",
            "\n",
            "   InsuranceTypeID  BranchID  \n",
            "0                1         1  \n",
            "1                2         2  \n",
            "2                3         3  \n",
            "3                4         1  \n",
            "4                2         1  \n",
            "Идентификатор строки с максимальным значением InsuranceAmount: 80\n",
            "Идентификатор строки с минимальным значением InsuranceAmount: 77\n",
            "Минимальный коэффициент ставки (ручной расчет): 2.25\n",
            "Запрос: Какой минимальный коэффициент ставки?\n",
            "Ответ: 2.25\n",
            "\n",
            "Запрос: Какое максимальное значение страховой суммы?\n",
            "Ответ: 300000.0\n",
            "\n",
            "Запрос: Какое минимальное значение в столбце 'Rate'?\n",
            "Ответ: 2.25\n",
            "\n",
            "Запрос: Какое максимальное значение в столбце 'Rate'?\n",
            "Ответ: 5.5\n",
            "\n",
            "Запрос: сколько уникальных клиентов 'ClientID'?\n",
            "Ответ: 4\n",
            "\n"
          ]
        }
      ],
      "source": [
        "from google.colab import drive\n",
        "import pandas as pd\n",
        "from transformers import AutoModelForTableQuestionAnswering, AutoTokenizer, pipeline\n",
        "\n",
        "# Шаг 1: Монтирование Google Drive\n",
        "drive.mount('/content/drive')  # Монтируем Google Drive\n",
        "\n",
        "# Шаг 2: Загрузка файла\n",
        "file_path = '/content/drive/MyDrive/Colab Notebooks/contract.csv'  # Путь к вашему файлу\n",
        "data = pd.read_csv(file_path)  # Загрузка данных из CSV\n",
        "\n",
        "# Преобразование столбца InsuranceAmount в числовой формат\n",
        "data['InsuranceAmount'] = pd.to_numeric(data['InsuranceAmount'], errors='coerce')\n",
        "\n",
        "print(\"Данные после импорта:\")\n",
        "print(data.head())  # Вывод первых нескольких строк таблицы\n",
        "\n",
        "# Шаг 3: Определение идентификаторов строк с максимальным и минимальным значением\n",
        "max_id = data.loc[data['InsuranceAmount'].idxmax(), 'ContractID']\n",
        "min_id = data.loc[data['InsuranceAmount'].idxmin(), 'ContractID']\n",
        "\n",
        "print(f\"Идентификатор строки с максимальным значением InsuranceAmount: {max_id}\")\n",
        "print(f\"Идентификатор строки с минимальным значением InsuranceAmount: {min_id}\")\n",
        "\n",
        "# Определение минимального коэффициента ставки вручную\n",
        "min_rate_manual = data['Rate'].min()\n",
        "print(f\"Минимальный коэффициент ставки (ручной расчет): {min_rate_manual}\")\n",
        "\n",
        "# Шаг 4: Загрузка модели\n",
        "model_name = \"google/tapas-base-finetuned-wtq\"  # Выбор модели\n",
        "model = AutoModelForTableQuestionAnswering.from_pretrained(model_name)\n",
        "tokenizer = AutoTokenizer.from_pretrained(model_name)\n",
        "\n",
        "# Инициализация pipeline\n",
        "table_qa_pipeline = pipeline(\"table-question-answering\", model=model, tokenizer=tokenizer)\n",
        "\n",
        "# Шаг 2: Функция для обработки запросов\n",
        "def query_data(query, data):\n",
        "    if \"минимальный коэффициент ставки\" in query:\n",
        "        return data['Rate'].min()\n",
        "    elif \"максимальное значение страховой суммы\" in query:\n",
        "        return data['InsuranceAmount'].max()\n",
        "    elif \"минимальное значение в столбце 'Rate'\" in query:\n",
        "        return data['Rate'].min()\n",
        "    elif \"максимальное значение в столбце 'Rate'\" in query:\n",
        "        return data['Rate'].max()\n",
        "    elif \"сколько уникальных клиентов\" in query:  # Изменено условие\n",
        "        return data['ClientID'].nunique()\n",
        "    elif \"сколько всего контрактов\" in query:\n",
        "        return len(data)\n",
        "    else:\n",
        "        return \"Неизвестный запрос.\"\n",
        "\n",
        "# Шаг 3: Примеры запросов\n",
        "queries = [\n",
        "    \"Какой минимальный коэффициент ставки?\",\n",
        "    \"Какое максимальное значение страховой суммы?\",\n",
        "    \"Какое минимальное значение в столбце 'Rate'?\",\n",
        "    \"Какое максимальное значение в столбце 'Rate'?\",\n",
        "    \"сколько уникальных клиентов 'ClientID'?\"  # Изменён запрос\n",
        "]\n",
        "\n",
        "# Шаг 4: Обработка запросов\n",
        "for q in queries:\n",
        "    answer = query_data(q, data)\n",
        "    print(f\"Запрос: {q}\\nОтвет: {answer}\\n\")"
      ]
    }
  ]
}